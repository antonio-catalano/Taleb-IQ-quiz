{
 "cells": [
  {
   "cell_type": "code",
   "execution_count": 1,
   "metadata": {},
   "outputs": [],
   "source": [
    "import numpy as np\n",
    "from scipy.stats import multivariate_normal as multi\n",
    "import matplotlib.pyplot as plt"
   ]
  },
  {
   "cell_type": "code",
   "execution_count": 7,
   "metadata": {},
   "outputs": [
    {
     "name": "stdout",
     "output_type": "stream",
     "text": [
      "Choose the IQ mean: 100\n",
      "Choose the IQ standard deviation : 10\n",
      "\n",
      "\n",
      "Choose the correlation IQ/performance for group with low IQ: 0.3\n",
      "Choose the correlation IQ/performance for group with high IQ: 0.4\n"
     ]
    }
   ],
   "source": [
    "Mean_IQ = float(input('Choose the IQ mean: '))\n",
    "IQ_standard_deviation = float(input('Choose the IQ standard deviation : '))\n",
    "print('\\n')\n",
    "Corr_low_choice = float(input('Choose the correlation IQ/performance for group with low IQ: '))\n",
    "Corr_high_choice = float(input('Choose the correlation IQ/performance for group with high IQ: '))"
   ]
  },
  {
   "cell_type": "code",
   "execution_count": 8,
   "metadata": {},
   "outputs": [],
   "source": [
    "def IQ(IQ_mean, IQ_std):\n",
    "    IQ_value_low = []\n",
    "    IQ_value_high = []\n",
    "    IQ_all = []\n",
    "    for i in range(10000):       \n",
    "        IQ_value = np.random.normal(IQ_mean, IQ_std)   \n",
    "        IQ_all.append(IQ_value)\n",
    "        if IQ_value < IQ_mean:\n",
    "            IQ_value_low.append(IQ_value)\n",
    "        else:\n",
    "            IQ_value_high.append(IQ_value)\n",
    "    return (np.array(IQ_value_low), np.array(IQ_value_high), np.array(IQ_all))"
   ]
  },
  {
   "cell_type": "code",
   "execution_count": 9,
   "metadata": {},
   "outputs": [],
   "source": [
    "def unconditional_correlation(correlation_lowIQ, correlation_highIQ):\n",
    "    vector_mean_low = [IQ_low.mean(), perf_low.mean()]   \n",
    "    covariance_low = perf_low.std() * IQ_low.std() * correlation_lowIQ\n",
    "    matrix_cov_low = np.array([[IQ_low.var(), covariance_low], [covariance_low, perf_low.var()]])\n",
    "    \n",
    "    M1 = np.random.multivariate_normal(vector_mean_low, matrix_cov_low, size = 10000)\n",
    "    \n",
    "    print('Matrix sampling correlation for IQ low group:\\n', np.corrcoef(M1.T))  \n",
    "    print('\\n')\n",
    "    \n",
    "    vector_mean_highIQ = [IQ_high.mean(), perf_high.mean()]  \n",
    "    covariance_highIQ = perf_high.std() * IQ_high.std() * correlation_highIQ   \n",
    "    matrix_cov_highIQ = np.array([[IQ_high.var(), covariance_highIQ], [covariance_highIQ, perf_high.var()]])\n",
    "    \n",
    "    M2 = np.random.multivariate_normal(vector_mean_highIQ, matrix_cov_highIQ, size = 10000)\n",
    "    \n",
    "    print('Matrix sampling correlation for IQ high group:\\n', np.corrcoef(M2.T))  \n",
    "    print('\\n')\n",
    "    \n",
    "    matrix_all = np.concatenate((M1,M2))\n",
    "      \n",
    "    return(np.corrcoef(matrix_all.T)[0][1])\n"
   ]
  },
  {
   "cell_type": "code",
   "execution_count": 10,
   "metadata": {},
   "outputs": [],
   "source": [
    "IQ_low = IQ(Mean_IQ, IQ_standard_deviation)[0]\n",
    "IQ_high = IQ(Mean_IQ, IQ_standard_deviation)[1]\n",
    "IQ_all = IQ(Mean_IQ, IQ_standard_deviation)[2]\n",
    "\n",
    "perf_low = np.random.normal(IQ_low.mean(), IQ_low.std(), size = len(IQ_low))\n",
    "perf_high = np.random.normal(IQ_high.mean(),IQ_high.std(), size = len(IQ_high))\n",
    "perf_all = np.random.normal(IQ_all.mean(), IQ_all.std(), size = len(IQ_all))\n"
   ]
  },
  {
   "cell_type": "code",
   "execution_count": 11,
   "metadata": {},
   "outputs": [
    {
     "name": "stdout",
     "output_type": "stream",
     "text": [
      "Matrix sampling correlation for IQ low group:\n",
      " [[1.       0.292842]\n",
      " [0.292842 1.      ]]\n",
      "\n",
      "\n",
      "Matrix sampling correlation for IQ high group:\n",
      " [[1.         0.39820063]\n",
      " [0.39820063 1.        ]]\n",
      "\n",
      "\n",
      "\n",
      "Uncondional sampling correlation 0.7671509616763117\n"
     ]
    }
   ],
   "source": [
    "print('\\nUncondional sampling correlation', unconditional_correlation(Corr_low_choice, Corr_high_choice))"
   ]
  },
  {
   "cell_type": "code",
   "execution_count": null,
   "metadata": {},
   "outputs": [],
   "source": []
  }
 ],
 "metadata": {
  "kernelspec": {
   "display_name": "Python 3",
   "language": "python",
   "name": "python3"
  },
  "language_info": {
   "codemirror_mode": {
    "name": "ipython",
    "version": 3
   },
   "file_extension": ".py",
   "mimetype": "text/x-python",
   "name": "python",
   "nbconvert_exporter": "python",
   "pygments_lexer": "ipython3",
   "version": "3.6.4"
  }
 },
 "nbformat": 4,
 "nbformat_minor": 2
}
